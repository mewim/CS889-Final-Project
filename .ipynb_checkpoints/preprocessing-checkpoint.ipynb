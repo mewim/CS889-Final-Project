{
 "cells": [
  {
   "cell_type": "markdown",
   "metadata": {},
   "source": [
    "In this first notebook, I am using Spotify data to see which songs are similar to a given song. Similar songs are simply those songs which are close to the vector embedding of the given song. I construct the vector embedding using (scaled version of) attributes like \"acousticness\", ..., \"valence\"."
   ]
  },
  {
   "cell_type": "code",
   "execution_count": 1,
   "metadata": {
    "_cell_guid": "b1076dfc-b9ad-4769-8c92-a6c4dae69d19",
    "_uuid": "8f2839f25d086af736a60e9eeb907d3b93b6e0e5"
   },
   "outputs": [],
   "source": [
    "import numpy as np\n",
    "import pandas as pd\n",
    "import glob\n",
    "import tqdm\n",
    "from collections import OrderedDict\n",
    "import langid # I want english songs"
   ]
  },
  {
   "cell_type": "code",
   "execution_count": 3,
   "metadata": {},
   "outputs": [],
   "source": [
    "csv = pd.read_csv(*glob.glob(\"public/data/tracks.csv\"))"
   ]
  },
  {
   "cell_type": "code",
   "execution_count": 4,
   "metadata": {},
   "outputs": [],
   "source": [
    "def scale_0_1(df, col):\n",
    "    df.loc[:, col] = (df[col]-df[col].mean())/df[col].std()"
   ]
  },
  {
   "cell_type": "code",
   "execution_count": 5,
   "metadata": {},
   "outputs": [],
   "source": [
    "attrs = [\"acousticness\", \"danceability\", \"energy\", \"instrumentalness\", \"liveness\", \"loudness\", \"speechiness\", \"tempo\", \"valence\"]\n",
    "for attr in attrs:\n",
    "    scale_0_1(csv, attr) # Rescale these attributes to be N(0, 1)\n",
    "csv.loc[:, \"name\"] = csv[\"name\"].str.lower()\n",
    "csv = csv.drop_duplicates(subset=attrs)"
   ]
  },
  {
   "cell_type": "code",
   "execution_count": 6,
   "metadata": {},
   "outputs": [
    {
     "name": "stderr",
     "output_type": "stream",
     "text": [
      "100%|██████████| 566113/566113 [07:06<00:00, 1325.91it/s]\n"
     ]
    }
   ],
   "source": [
    "# langid.classify is a fast way to check the language of the song name\n",
    "def check_en(name):\n",
    "    try:\n",
    "        return langid.classify(name)[0] in [\"en\"]\n",
    "    except:\n",
    "        return False\n",
    "\n",
    "tqdm.tqdm.pandas()\n",
    "csv = csv[csv[\"name\"].progress_apply(lambda x: check_en(x))]"
   ]
  },
  {
   "cell_type": "code",
   "execution_count": 7,
   "metadata": {},
   "outputs": [
    {
     "data": {
      "text/html": [
       "<div>\n",
       "<style scoped>\n",
       "    .dataframe tbody tr th:only-of-type {\n",
       "        vertical-align: middle;\n",
       "    }\n",
       "\n",
       "    .dataframe tbody tr th {\n",
       "        vertical-align: top;\n",
       "    }\n",
       "\n",
       "    .dataframe thead th {\n",
       "        text-align: right;\n",
       "    }\n",
       "</style>\n",
       "<table border=\"1\" class=\"dataframe\">\n",
       "  <thead>\n",
       "    <tr style=\"text-align: right;\">\n",
       "      <th></th>\n",
       "      <th>name</th>\n",
       "      <th>id</th>\n",
       "      <th>artists</th>\n",
       "      <th>acousticness</th>\n",
       "      <th>danceability</th>\n",
       "      <th>energy</th>\n",
       "      <th>instrumentalness</th>\n",
       "      <th>liveness</th>\n",
       "      <th>loudness</th>\n",
       "      <th>speechiness</th>\n",
       "      <th>tempo</th>\n",
       "      <th>valence</th>\n",
       "    </tr>\n",
       "  </thead>\n",
       "  <tbody>\n",
       "    <tr>\n",
       "      <th>56455</th>\n",
       "      <td>i'll do anything for you</td>\n",
       "      <td>3CuKcfH8BJ5The5G3llaKD</td>\n",
       "      <td>['Denroy Morgan']</td>\n",
       "      <td>-0.730608</td>\n",
       "      <td>1.013868</td>\n",
       "      <td>1.091461</td>\n",
       "      <td>-0.425109</td>\n",
       "      <td>-0.713601</td>\n",
       "      <td>0.714253</td>\n",
       "      <td>1.006913</td>\n",
       "      <td>-0.110027</td>\n",
       "      <td>0.976856</td>\n",
       "    </tr>\n",
       "    <tr>\n",
       "      <th>458469</th>\n",
       "      <td>i'll do anything</td>\n",
       "      <td>2mmqUU64P1BhJNvH1jtofT</td>\n",
       "      <td>['D-Train']</td>\n",
       "      <td>-1.164622</td>\n",
       "      <td>1.519579</td>\n",
       "      <td>0.075277</td>\n",
       "      <td>-0.425099</td>\n",
       "      <td>-0.817765</td>\n",
       "      <td>0.149738</td>\n",
       "      <td>-0.155446</td>\n",
       "      <td>0.047277</td>\n",
       "      <td>0.775049</td>\n",
       "    </tr>\n",
       "    <tr>\n",
       "      <th>555315</th>\n",
       "      <td>i'll do anything</td>\n",
       "      <td>0hK8yn7I0oqrqXljVVGPla</td>\n",
       "      <td>['Jason Mraz']</td>\n",
       "      <td>-0.948475</td>\n",
       "      <td>0.038568</td>\n",
       "      <td>0.670697</td>\n",
       "      <td>-0.425120</td>\n",
       "      <td>0.749028</td>\n",
       "      <td>1.188775</td>\n",
       "      <td>-0.193246</td>\n",
       "      <td>1.500604</td>\n",
       "      <td>0.375314</td>\n",
       "    </tr>\n",
       "  </tbody>\n",
       "</table>\n",
       "</div>"
      ],
      "text/plain": [
       "                            name                      id            artists  \\\n",
       "56455   i'll do anything for you  3CuKcfH8BJ5The5G3llaKD  ['Denroy Morgan']   \n",
       "458469          i'll do anything  2mmqUU64P1BhJNvH1jtofT        ['D-Train']   \n",
       "555315          i'll do anything  0hK8yn7I0oqrqXljVVGPla     ['Jason Mraz']   \n",
       "\n",
       "        acousticness  danceability    energy  instrumentalness  liveness  \\\n",
       "56455      -0.730608      1.013868  1.091461         -0.425109 -0.713601   \n",
       "458469     -1.164622      1.519579  0.075277         -0.425099 -0.817765   \n",
       "555315     -0.948475      0.038568  0.670697         -0.425120  0.749028   \n",
       "\n",
       "        loudness  speechiness     tempo   valence  \n",
       "56455   0.714253     1.006913 -0.110027  0.976856  \n",
       "458469  0.149738    -0.155446  0.047277  0.775049  \n",
       "555315  1.188775    -0.193246  1.500604  0.375314  "
      ]
     },
     "execution_count": 7,
     "metadata": {},
     "output_type": "execute_result"
    }
   ],
   "source": [
    "song_name = \"i'll do anything\"\n",
    "rows = csv[[\"name\", \"id\", \"artists\"]+attrs][csv[\"name\"].str.contains(song_name)]\n",
    "vec = rows[attrs].iloc[2].to_numpy()\n",
    "rows"
   ]
  },
  {
   "cell_type": "code",
   "execution_count": 17,
   "metadata": {},
   "outputs": [],
   "source": [
    "csv2 = csv[[\"acousticness\",\"danceability\",\"energy\",\"instrumentalness\",\"valence\",\"liveness\",\"speechiness\"]]"
   ]
  },
  {
   "cell_type": "code",
   "execution_count": 18,
   "metadata": {},
   "outputs": [],
   "source": [
    "from sklearn.manifold import TSNE"
   ]
  },
  {
   "cell_type": "code",
   "execution_count": 19,
   "metadata": {},
   "outputs": [
    {
     "data": {
      "text/plain": [
       "(215035, 7)"
      ]
     },
     "execution_count": 19,
     "metadata": {},
     "output_type": "execute_result"
    }
   ],
   "source": [
    "csv2.to_numpy().shape"
   ]
  },
  {
   "cell_type": "code",
   "execution_count": 20,
   "metadata": {},
   "outputs": [
    {
     "name": "stdout",
     "output_type": "stream",
     "text": [
      "[t-SNE] Computing 91 nearest neighbors...\n",
      "[t-SNE] Indexed 10000 samples in 0.013s...\n",
      "[t-SNE] Computed neighbors for 10000 samples in 0.375s...\n",
      "[t-SNE] Computed conditional probabilities for sample 1000 / 10000\n",
      "[t-SNE] Computed conditional probabilities for sample 2000 / 10000\n",
      "[t-SNE] Computed conditional probabilities for sample 3000 / 10000\n",
      "[t-SNE] Computed conditional probabilities for sample 4000 / 10000\n",
      "[t-SNE] Computed conditional probabilities for sample 5000 / 10000\n",
      "[t-SNE] Computed conditional probabilities for sample 6000 / 10000\n",
      "[t-SNE] Computed conditional probabilities for sample 7000 / 10000\n",
      "[t-SNE] Computed conditional probabilities for sample 8000 / 10000\n",
      "[t-SNE] Computed conditional probabilities for sample 9000 / 10000\n",
      "[t-SNE] Computed conditional probabilities for sample 10000 / 10000\n",
      "[t-SNE] Mean sigma: 0.303204\n",
      "[t-SNE] KL divergence after 250 iterations with early exaggeration: 83.139069\n",
      "[t-SNE] KL divergence after 1000 iterations: 1.429928\n"
     ]
    }
   ],
   "source": [
    "X_embedded = TSNE(n_components=3, verbose=1, n_jobs=8).fit_transform(csv2[:10000].to_numpy())"
   ]
  },
  {
   "cell_type": "code",
   "execution_count": 21,
   "metadata": {},
   "outputs": [
    {
     "data": {
      "text/plain": [
       "(10000, 3)"
      ]
     },
     "execution_count": 21,
     "metadata": {},
     "output_type": "execute_result"
    }
   ],
   "source": [
    "X_embedded.shape"
   ]
  },
  {
   "cell_type": "code",
   "execution_count": 22,
   "metadata": {},
   "outputs": [],
   "source": [
    "csv3 = csv[:10000]"
   ]
  },
  {
   "cell_type": "code",
   "execution_count": 26,
   "metadata": {},
   "outputs": [],
   "source": [
    "csv3['x'] = X_embedded[:, 0].tolist()\n",
    "csv3['y'] = X_embedded[:, 1].tolist()\n",
    "csv3['z'] = X_embedded[:, 2].tolist()"
   ]
  }
 ],
 "metadata": {
  "kernelspec": {
   "display_name": "Python 3",
   "language": "python",
   "name": "python3"
  },
  "language_info": {
   "codemirror_mode": {
    "name": "ipython",
    "version": 3
   },
   "file_extension": ".py",
   "mimetype": "text/x-python",
   "name": "python",
   "nbconvert_exporter": "python",
   "pygments_lexer": "ipython3",
   "version": "3.8.10"
  }
 },
 "nbformat": 4,
 "nbformat_minor": 4
}
